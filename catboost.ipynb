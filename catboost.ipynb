{
 "cells": [
  {
   "cell_type": "code",
   "execution_count": 2,
   "id": "5046723c",
   "metadata": {},
   "outputs": [],
   "source": [
    "# https://dacon.io/codeshare/2384\n",
    "# https://catboost.ai/en/docs/concepts/python-reference_catboost_grid_search\n",
    "# https://www.kaggle.com/code/kevrchen/catboost-gridsearchcv-feature-engineering/notebook"
   ]
  },
  {
   "cell_type": "code",
   "execution_count": 11,
   "id": "a6b073fa",
   "metadata": {},
   "outputs": [],
   "source": [
    "import pandas as pd\n",
    "import numpy as np\n",
    "import matplotlib.pyplot as plt\n",
    "import seaborn as sns\n",
    "\n",
    "from sklearn.model_selection import train_test_split\n",
    "from catboost import CatBoostClassifier\n",
    "\n",
    "from sklearn.model_selection import KFold\n",
    "from sklearn.metrics import accuracy_score\n",
    "\n",
    "\n",
    "import os"
   ]
  },
  {
   "cell_type": "code",
   "execution_count": 4,
   "id": "10095099",
   "metadata": {
    "scrolled": false
   },
   "outputs": [],
   "source": [
    "train_list = [\n",
    "    './preprocessed/KNOW_2017_train_bert.csv',\n",
    "            './preprocessed/KNOW_2017_train_no_text.csv',\n",
    "            './preprocessed/KNOW_2017_train_simcse.csv',\n",
    "            \n",
    "\n",
    "            './preprocessed/KNOW_2018_train_bert.csv',\n",
    "            './preprocessed/KNOW_2018_train_no_text.csv',\n",
    "            './preprocessed/KNOW_2018_train_simcse.csv',\n",
    "            \n",
    "\n",
    "            './preprocessed/KNOW_2019_train_bert.csv',\n",
    "            './preprocessed/KNOW_2019_train_no_text.csv',\n",
    "            './preprocessed/KNOW_2019_train_simcse.csv',\n",
    "            \n",
    "\n",
    "            './preprocessed/KNOW_2020_train_bert.csv',\n",
    "            './preprocessed/KNOW_2020_train_no_text.csv',\n",
    "            './preprocessed/KNOW_2020_train_simcse.csv',\n",
    "    './preprocessed/KNOW_2017_train_tfidf.csv',\n",
    "    './preprocessed/KNOW_2019_train_tfidf.csv',\n",
    "    './preprocessed/KNOW_2018_train_tfidf.csv',\n",
    "            './preprocessed/KNOW_2020_train_tfidf.csv']"
   ]
  },
  {
   "cell_type": "code",
   "execution_count": 5,
   "id": "e5438f58",
   "metadata": {},
   "outputs": [],
   "source": [
    "test_list = [\n",
    "    './preprocessed/KNOW_2017_test_bert.csv',\n",
    "            './preprocessed/KNOW_2017_test_no_text.csv',\n",
    "            './preprocessed/KNOW_2017_test_simcse.csv',\n",
    "            \n",
    "\n",
    "            './preprocessed/KNOW_2018_test_bert.csv',\n",
    "            './preprocessed/KNOW_2018_test_no_text.csv',\n",
    "            './preprocessed/KNOW_2018_test_simcse.csv',\n",
    "            \n",
    "\n",
    "            './preprocessed/KNOW_2019_test_bert.csv',\n",
    "            './preprocessed/KNOW_2019_test_no_text.csv',\n",
    "            './preprocessed/KNOW_2019_test_simcse.csv',\n",
    "            \n",
    "\n",
    "            './preprocessed/KNOW_2020_test_bert.csv',\n",
    "            './preprocessed/KNOW_2020_test_no_text.csv',\n",
    "            './preprocessed/KNOW_2020_test_simcse.csv',\n",
    "    './preprocessed/KNOW_2017_test_tfidf.csv',\n",
    "    './preprocessed/KNOW_2018_test_tfidf.csv',\n",
    "    './preprocessed/KNOW_2019_test_tfidf.csv',\n",
    "            './preprocessed/KNOW_2020_test_tfidf.csv']"
   ]
  },
  {
   "cell_type": "code",
   "execution_count": 6,
   "id": "b0701fd1",
   "metadata": {},
   "outputs": [],
   "source": [
    "filename_list = [\n",
    "    './result/KNOW_2017_bert.csv',\n",
    "            './result/KNOW_2017_no_text.csv',\n",
    "            './result/KNOW_2017_simcse.csv',\n",
    "            \n",
    "\n",
    "            './result/KNOW_2018_bert.csv',\n",
    "            './result/KNOW_2018_no_text.csv',\n",
    "            './result/KNOW_2018_simcse.csv',\n",
    "            \n",
    "\n",
    "            './result/KNOW_2019_bert.csv',\n",
    "            './result/KNOW_2019_no_text.csv',\n",
    "            './result/KNOW_2019_simcse.csv',\n",
    "            \n",
    "\n",
    "            './result/KNOW_2020_bert.csv',\n",
    "            './result/KNOW_2020_no_text.csv',\n",
    "            './result/KNOW_2020_simcse.csv',\n",
    "    './result/KNOW_2017_tfidf.csv',\n",
    "    './result/KNOW_2018_tfidf.csv',\n",
    "    './result/KNOW_2019_tfidf.csv',\n",
    "            './result/KNOW_2020_tfidf.csv']"
   ]
  },
  {
   "cell_type": "code",
   "execution_count": 7,
   "id": "cab2eee2",
   "metadata": {},
   "outputs": [
    {
     "name": "stdout",
     "output_type": "stream",
     "text": [
      "pass\n",
      "pass\n",
      "pass\n",
      "pass\n",
      "pass\n",
      "pass\n",
      "pass\n",
      "pass\n",
      "pass\n",
      "pass\n",
      "pass\n",
      "pass\n",
      "pass\n",
      "pass\n",
      "pass\n",
      "pass\n"
     ]
    }
   ],
   "source": [
    "for file_name in train_list:\n",
    "    if os.path.isfile(file_name):\n",
    "        print(\"pass\")\n",
    "    else:\n",
    "        print(file_name  + \" don't exist\")"
   ]
  },
  {
   "cell_type": "code",
   "execution_count": 8,
   "id": "2d3e0fea",
   "metadata": {},
   "outputs": [
    {
     "name": "stdout",
     "output_type": "stream",
     "text": [
      "pass\n",
      "pass\n",
      "pass\n",
      "pass\n",
      "pass\n",
      "pass\n",
      "pass\n",
      "pass\n",
      "pass\n",
      "pass\n",
      "pass\n",
      "pass\n",
      "pass\n",
      "pass\n",
      "pass\n",
      "pass\n"
     ]
    }
   ],
   "source": [
    "for file_name in test_list:\n",
    "    if os.path.isfile(file_name):\n",
    "        print(\"pass\")\n",
    "    else:\n",
    "        print(file_name  + \" don't exist\")"
   ]
  },
  {
   "cell_type": "code",
   "execution_count": 9,
   "id": "ccfaba87",
   "metadata": {},
   "outputs": [
    {
     "name": "stdout",
     "output_type": "stream",
     "text": [
      "16\n",
      "16\n",
      "16\n"
     ]
    }
   ],
   "source": [
    "print(len(train_list))\n",
    "print(len(test_list))\n",
    "print(len(filename_list))"
   ]
  },
  {
   "cell_type": "code",
   "execution_count": 10,
   "id": "d6ee5d04",
   "metadata": {
    "scrolled": false
   },
   "outputs": [
    {
     "name": "stdout",
     "output_type": "stream",
     "text": [
      "[dtype('int64') dtype('float64')]\n",
      "[dtype('int64') dtype('float64')]\n",
      "\n",
      "___./result/KNOW_2017_bert.csv start___\n",
      "\n",
      "Fold  0\n"
     ]
    }
   ],
   "source": [
    "n_split = 5\n",
    "k_fold = KFold(n_splits = n_split, random_state = 123, shuffle=True)\n",
    "\n",
    "for i in range(len(filename_list)):\n",
    "\n",
    "    train = pd.read_csv(train_list[i])\n",
    "    print(train.dtypes.unique())\n",
    "    \n",
    "    \n",
    "    print(train.dtypes.unique())\n",
    "    print('\\n___' + filename_list[i] + ' start___')\n",
    "\n",
    "    y = train['knowcode']\n",
    "    X = train.drop(['index', 'knowcode'], axis=1)\n",
    "\n",
    "#     y_test = test.copy()['knowcode']\n",
    "#     X_test = test.drop(['index', 'knowcode'], axis=1)\n",
    "\n",
    "    with open('./result/result.txt', 'a') as result:\n",
    "        result.write('___' + filename_list[i] + '___\\n')\n",
    "\n",
    "    catboost_clf = CatBoostClassifier(learning_rate = 0.3, \n",
    "                                      iterations = 2200, \n",
    "                                      task_type = 'GPU', \n",
    "                                      eval_metric='Accuracy',\n",
    "#                                       l2_leaf_reg=3.16227766e-09,\n",
    "#                                       loss_function= 'MultiClass',\n",
    "#                                       leaf_estimation_iterations=10,\n",
    "                                      random_seed = 123\n",
    "                                     )\n",
    "\n",
    "    for j, (train_index, test_index) in enumerate(k_fold.split(train)):\n",
    "        # Create data for this fold\n",
    "        y_train, y_valid = y.iloc[train_index], y.iloc[test_index]\n",
    "        X_train, X_valid = X.iloc[train_index,:], X.iloc[test_index,:]\n",
    "        print( \"\\nFold \", j)\n",
    "        with open('./result/result.txt', 'a') as result:\n",
    "            result.write(\"Fold: {}\".format(j))\n",
    "\n",
    "        # Run model for this fold\n",
    "\n",
    "        catboost_clf = catboost_clf.fit( X_train, y_train,\n",
    "                             cat_features=None,\n",
    "                             eval_set=(X_valid, y_valid),\n",
    "                                       )\n",
    "\n",
    "        # Generate validation predictions for this fold\n",
    "        pred = catboost_clf.predict(X_valid)\n",
    "\n",
    "#         print(filename_list[i] + '의 정확도: {0:.4f}'.format(accuracy_score(y_valid , pred)))\n",
    "        with open('./result/result.txt', 'a') as result:\n",
    "            result.write('정확도: {0:.4f}\\n'.format(accuracy_score(y_valid , pred)))\n",
    "    \n",
    "    test = pd.read_csv(test_list[i])\n",
    "    pred_y = catboost_clf.predict(test[train.drop(['index','knowcode'], axis=1).columns])\n",
    "    \n",
    "    submission = pd.DataFrame({\n",
    "        'index': test['index'],\n",
    "        'knowcode': pred_y.transpose()[0]\n",
    "    })\n",
    "    submission.to_csv(filename_list[i], index=False)"
   ]
  },
  {
   "cell_type": "code",
   "execution_count": 24,
   "id": "53dc5893",
   "metadata": {},
   "outputs": [
    {
     "data": {
      "text/plain": [
       "array([[904201],\n",
       "       [215105],\n",
       "       [411201],\n",
       "       ...,\n",
       "       [561301],\n",
       "       [155401],\n",
       "       [122103]], dtype=int64)"
      ]
     },
     "execution_count": 24,
     "metadata": {},
     "output_type": "execute_result"
    }
   ],
   "source": [
    "# 애러날경우 수동으로\n",
    "# pred_y = catboost_clf.predict(test.drop(['index'], axis=1))\n",
    "pred_y = catboost_clf.predict(test[train.drop(['knowcode', 'index'], axis=1).columns])\n",
    "pred_y"
   ]
  },
  {
   "cell_type": "code",
   "execution_count": 10,
   "id": "68388d6f",
   "metadata": {},
   "outputs": [
    {
     "data": {
      "text/html": [
       "<div>\n",
       "<style scoped>\n",
       "    .dataframe tbody tr th:only-of-type {\n",
       "        vertical-align: middle;\n",
       "    }\n",
       "\n",
       "    .dataframe tbody tr th {\n",
       "        vertical-align: top;\n",
       "    }\n",
       "\n",
       "    .dataframe thead th {\n",
       "        text-align: right;\n",
       "    }\n",
       "</style>\n",
       "<table border=\"1\" class=\"dataframe\">\n",
       "  <thead>\n",
       "    <tr style=\"text-align: right;\">\n",
       "      <th></th>\n",
       "      <th>index</th>\n",
       "      <th>knowcode</th>\n",
       "    </tr>\n",
       "  </thead>\n",
       "  <tbody>\n",
       "    <tr>\n",
       "      <th>0</th>\n",
       "      <td>0</td>\n",
       "      <td>904201</td>\n",
       "    </tr>\n",
       "    <tr>\n",
       "      <th>1</th>\n",
       "      <td>1</td>\n",
       "      <td>415501</td>\n",
       "    </tr>\n",
       "    <tr>\n",
       "      <th>2</th>\n",
       "      <td>2</td>\n",
       "      <td>411103</td>\n",
       "    </tr>\n",
       "    <tr>\n",
       "      <th>3</th>\n",
       "      <td>3</td>\n",
       "      <td>411103</td>\n",
       "    </tr>\n",
       "    <tr>\n",
       "      <th>4</th>\n",
       "      <td>4</td>\n",
       "      <td>23402</td>\n",
       "    </tr>\n",
       "    <tr>\n",
       "      <th>...</th>\n",
       "      <td>...</td>\n",
       "      <td>...</td>\n",
       "    </tr>\n",
       "    <tr>\n",
       "      <th>9064</th>\n",
       "      <td>9064</td>\n",
       "      <td>531401</td>\n",
       "    </tr>\n",
       "    <tr>\n",
       "      <th>9065</th>\n",
       "      <td>9065</td>\n",
       "      <td>122201</td>\n",
       "    </tr>\n",
       "    <tr>\n",
       "      <th>9066</th>\n",
       "      <td>9066</td>\n",
       "      <td>122201</td>\n",
       "    </tr>\n",
       "    <tr>\n",
       "      <th>9067</th>\n",
       "      <td>9067</td>\n",
       "      <td>122201</td>\n",
       "    </tr>\n",
       "    <tr>\n",
       "      <th>9068</th>\n",
       "      <td>9068</td>\n",
       "      <td>122301</td>\n",
       "    </tr>\n",
       "  </tbody>\n",
       "</table>\n",
       "<p>9069 rows × 2 columns</p>\n",
       "</div>"
      ],
      "text/plain": [
       "      index  knowcode\n",
       "0         0    904201\n",
       "1         1    415501\n",
       "2         2    411103\n",
       "3         3    411103\n",
       "4         4     23402\n",
       "...     ...       ...\n",
       "9064   9064    531401\n",
       "9065   9065    122201\n",
       "9066   9066    122201\n",
       "9067   9067    122201\n",
       "9068   9068    122301\n",
       "\n",
       "[9069 rows x 2 columns]"
      ]
     },
     "execution_count": 10,
     "metadata": {},
     "output_type": "execute_result"
    }
   ],
   "source": [
    "submission = pd.DataFrame({\n",
    "    'index': test['index'],\n",
    "    'knowcode': pred_y.transpose()[0]\n",
    "})\n",
    "submission0"
   ]
  },
  {
   "cell_type": "code",
   "execution_count": 25,
   "id": "63d81201",
   "metadata": {},
   "outputs": [],
   "source": [
    "submission.to_csv(filename_list[0], index=False)"
   ]
  },
  {
   "cell_type": "code",
   "execution_count": 12,
   "id": "e06ffc15",
   "metadata": {},
   "outputs": [],
   "source": [
    "# tf-idf만 다시\n",
    "train_list = [\n",
    "    './preprocessed/KNOW_2017_train_tfidf.csv',\n",
    "    './preprocessed/KNOW_2019_train_tfidf.csv',\n",
    "    './preprocessed/KNOW_2018_train_tfidf.csv',\n",
    "            './preprocessed/KNOW_2020_train_tfidf.csv']"
   ]
  },
  {
   "cell_type": "code",
   "execution_count": 13,
   "id": "c2b581b2",
   "metadata": {},
   "outputs": [],
   "source": [
    "test_list = [\n",
    "    './preprocessed/KNOW_2017_test_tfidf.csv',\n",
    "    './preprocessed/KNOW_2018_test_tfidf.csv',\n",
    "    './preprocessed/KNOW_2019_test_tfidf.csv',\n",
    "            './preprocessed/KNOW_2020_test_tfidf.csv']"
   ]
  },
  {
   "cell_type": "code",
   "execution_count": 14,
   "id": "b7532c55",
   "metadata": {},
   "outputs": [],
   "source": [
    "filename_list = [\n",
    "    './result/KNOW_2017_tfidf.csv',\n",
    "    './result/KNOW_2018_tfidf.csv',\n",
    "    './result/KNOW_2019_tfidf.csv',\n",
    "            './result/KNOW_2020_tfidf.csv']"
   ]
  },
  {
   "cell_type": "code",
   "execution_count": 5,
   "id": "5871e245",
   "metadata": {},
   "outputs": [],
   "source": [
    "train = pd.read_csv(train_list[0], dtype='float32')\n",
    "#     test = pd.read_csv(test_list[0])"
   ]
  },
  {
   "cell_type": "code",
   "execution_count": 6,
   "id": "aafc295d",
   "metadata": {},
   "outputs": [
    {
     "data": {
      "text/html": [
       "<div>\n",
       "<style scoped>\n",
       "    .dataframe tbody tr th:only-of-type {\n",
       "        vertical-align: middle;\n",
       "    }\n",
       "\n",
       "    .dataframe tbody tr th {\n",
       "        vertical-align: top;\n",
       "    }\n",
       "\n",
       "    .dataframe thead th {\n",
       "        text-align: right;\n",
       "    }\n",
       "</style>\n",
       "<table border=\"1\" class=\"dataframe\">\n",
       "  <thead>\n",
       "    <tr style=\"text-align: right;\">\n",
       "      <th></th>\n",
       "      <th>index</th>\n",
       "      <th>aq1_1</th>\n",
       "      <th>aq1_2</th>\n",
       "      <th>aq2_1</th>\n",
       "      <th>aq2_2</th>\n",
       "      <th>aq3_1</th>\n",
       "      <th>aq3_2</th>\n",
       "      <th>aq4_1</th>\n",
       "      <th>aq4_2</th>\n",
       "      <th>aq5_1</th>\n",
       "      <th>...</th>\n",
       "      <th>bq38_1_tfidf_926</th>\n",
       "      <th>bq38_1_tfidf_927</th>\n",
       "      <th>bq38_1_tfidf_928</th>\n",
       "      <th>bq38_1_tfidf_929</th>\n",
       "      <th>bq38_1_tfidf_930</th>\n",
       "      <th>bq38_1_tfidf_931</th>\n",
       "      <th>bq38_1_tfidf_932</th>\n",
       "      <th>bq38_1_tfidf_933</th>\n",
       "      <th>bq38_1_tfidf_934</th>\n",
       "      <th>bq38_1_tfidf_935</th>\n",
       "    </tr>\n",
       "  </thead>\n",
       "  <tbody>\n",
       "    <tr>\n",
       "      <th>0</th>\n",
       "      <td>0.0</td>\n",
       "      <td>3.0</td>\n",
       "      <td>3.0</td>\n",
       "      <td>3.0</td>\n",
       "      <td>3.0</td>\n",
       "      <td>3.0</td>\n",
       "      <td>3.0</td>\n",
       "      <td>4.0</td>\n",
       "      <td>4.0</td>\n",
       "      <td>3.0</td>\n",
       "      <td>...</td>\n",
       "      <td>0.0</td>\n",
       "      <td>0.0</td>\n",
       "      <td>0.0</td>\n",
       "      <td>0.000000</td>\n",
       "      <td>0.0</td>\n",
       "      <td>0.0</td>\n",
       "      <td>0.0</td>\n",
       "      <td>0.0</td>\n",
       "      <td>0.0</td>\n",
       "      <td>0.0</td>\n",
       "    </tr>\n",
       "    <tr>\n",
       "      <th>1</th>\n",
       "      <td>1.0</td>\n",
       "      <td>4.0</td>\n",
       "      <td>5.0</td>\n",
       "      <td>4.0</td>\n",
       "      <td>5.0</td>\n",
       "      <td>3.0</td>\n",
       "      <td>4.0</td>\n",
       "      <td>3.0</td>\n",
       "      <td>4.0</td>\n",
       "      <td>3.0</td>\n",
       "      <td>...</td>\n",
       "      <td>0.0</td>\n",
       "      <td>0.0</td>\n",
       "      <td>0.0</td>\n",
       "      <td>0.000000</td>\n",
       "      <td>0.0</td>\n",
       "      <td>0.0</td>\n",
       "      <td>0.0</td>\n",
       "      <td>0.0</td>\n",
       "      <td>0.0</td>\n",
       "      <td>0.0</td>\n",
       "    </tr>\n",
       "    <tr>\n",
       "      <th>2</th>\n",
       "      <td>2.0</td>\n",
       "      <td>3.0</td>\n",
       "      <td>4.0</td>\n",
       "      <td>3.0</td>\n",
       "      <td>4.0</td>\n",
       "      <td>3.0</td>\n",
       "      <td>4.0</td>\n",
       "      <td>5.0</td>\n",
       "      <td>6.0</td>\n",
       "      <td>4.0</td>\n",
       "      <td>...</td>\n",
       "      <td>0.0</td>\n",
       "      <td>0.0</td>\n",
       "      <td>0.0</td>\n",
       "      <td>0.000000</td>\n",
       "      <td>0.0</td>\n",
       "      <td>0.0</td>\n",
       "      <td>0.0</td>\n",
       "      <td>0.0</td>\n",
       "      <td>0.0</td>\n",
       "      <td>0.0</td>\n",
       "    </tr>\n",
       "    <tr>\n",
       "      <th>3</th>\n",
       "      <td>3.0</td>\n",
       "      <td>3.0</td>\n",
       "      <td>3.0</td>\n",
       "      <td>3.0</td>\n",
       "      <td>3.0</td>\n",
       "      <td>3.0</td>\n",
       "      <td>5.0</td>\n",
       "      <td>4.0</td>\n",
       "      <td>5.0</td>\n",
       "      <td>4.0</td>\n",
       "      <td>...</td>\n",
       "      <td>0.0</td>\n",
       "      <td>0.0</td>\n",
       "      <td>0.0</td>\n",
       "      <td>0.660679</td>\n",
       "      <td>0.0</td>\n",
       "      <td>0.0</td>\n",
       "      <td>0.0</td>\n",
       "      <td>0.0</td>\n",
       "      <td>0.0</td>\n",
       "      <td>0.0</td>\n",
       "    </tr>\n",
       "    <tr>\n",
       "      <th>4</th>\n",
       "      <td>4.0</td>\n",
       "      <td>4.0</td>\n",
       "      <td>5.0</td>\n",
       "      <td>3.0</td>\n",
       "      <td>4.0</td>\n",
       "      <td>3.0</td>\n",
       "      <td>4.0</td>\n",
       "      <td>4.0</td>\n",
       "      <td>5.0</td>\n",
       "      <td>3.0</td>\n",
       "      <td>...</td>\n",
       "      <td>0.0</td>\n",
       "      <td>0.0</td>\n",
       "      <td>0.0</td>\n",
       "      <td>0.000000</td>\n",
       "      <td>0.0</td>\n",
       "      <td>0.0</td>\n",
       "      <td>0.0</td>\n",
       "      <td>0.0</td>\n",
       "      <td>0.0</td>\n",
       "      <td>0.0</td>\n",
       "    </tr>\n",
       "  </tbody>\n",
       "</table>\n",
       "<p>5 rows × 24437 columns</p>\n",
       "</div>"
      ],
      "text/plain": [
       "   index  aq1_1  aq1_2  aq2_1  aq2_2  aq3_1  aq3_2  aq4_1  aq4_2  aq5_1  ...  \\\n",
       "0    0.0    3.0    3.0    3.0    3.0    3.0    3.0    4.0    4.0    3.0  ...   \n",
       "1    1.0    4.0    5.0    4.0    5.0    3.0    4.0    3.0    4.0    3.0  ...   \n",
       "2    2.0    3.0    4.0    3.0    4.0    3.0    4.0    5.0    6.0    4.0  ...   \n",
       "3    3.0    3.0    3.0    3.0    3.0    3.0    5.0    4.0    5.0    4.0  ...   \n",
       "4    4.0    4.0    5.0    3.0    4.0    3.0    4.0    4.0    5.0    3.0  ...   \n",
       "\n",
       "   bq38_1_tfidf_926  bq38_1_tfidf_927  bq38_1_tfidf_928  bq38_1_tfidf_929  \\\n",
       "0               0.0               0.0               0.0          0.000000   \n",
       "1               0.0               0.0               0.0          0.000000   \n",
       "2               0.0               0.0               0.0          0.000000   \n",
       "3               0.0               0.0               0.0          0.660679   \n",
       "4               0.0               0.0               0.0          0.000000   \n",
       "\n",
       "   bq38_1_tfidf_930  bq38_1_tfidf_931  bq38_1_tfidf_932  bq38_1_tfidf_933  \\\n",
       "0               0.0               0.0               0.0               0.0   \n",
       "1               0.0               0.0               0.0               0.0   \n",
       "2               0.0               0.0               0.0               0.0   \n",
       "3               0.0               0.0               0.0               0.0   \n",
       "4               0.0               0.0               0.0               0.0   \n",
       "\n",
       "   bq38_1_tfidf_934  bq38_1_tfidf_935  \n",
       "0               0.0               0.0  \n",
       "1               0.0               0.0  \n",
       "2               0.0               0.0  \n",
       "3               0.0               0.0  \n",
       "4               0.0               0.0  \n",
       "\n",
       "[5 rows x 24437 columns]"
      ]
     },
     "execution_count": 6,
     "metadata": {},
     "output_type": "execute_result"
    }
   ],
   "source": [
    "train.head()"
   ]
  },
  {
   "cell_type": "code",
   "execution_count": 7,
   "id": "f0399bc9",
   "metadata": {},
   "outputs": [
    {
     "data": {
      "text/plain": [
       "index               float32\n",
       "aq1_1               float32\n",
       "aq1_2               float32\n",
       "aq2_1               float32\n",
       "aq2_2               float32\n",
       "                     ...   \n",
       "bq38_1_tfidf_931    float32\n",
       "bq38_1_tfidf_932    float32\n",
       "bq38_1_tfidf_933    float32\n",
       "bq38_1_tfidf_934    float32\n",
       "bq38_1_tfidf_935    float32\n",
       "Length: 24437, dtype: object"
      ]
     },
     "execution_count": 7,
     "metadata": {},
     "output_type": "execute_result"
    }
   ],
   "source": [
    "train.dtypes"
   ]
  },
  {
   "cell_type": "code",
   "execution_count": 8,
   "id": "625e4bc8",
   "metadata": {},
   "outputs": [
    {
     "data": {
      "text/plain": [
       "index               False\n",
       "aq1_1               False\n",
       "aq1_2               False\n",
       "aq2_1               False\n",
       "aq2_2               False\n",
       "                    ...  \n",
       "bq38_1_tfidf_931    False\n",
       "bq38_1_tfidf_932    False\n",
       "bq38_1_tfidf_933    False\n",
       "bq38_1_tfidf_934    False\n",
       "bq38_1_tfidf_935    False\n",
       "Length: 24437, dtype: bool"
      ]
     },
     "execution_count": 8,
     "metadata": {},
     "output_type": "execute_result"
    }
   ],
   "source": [
    "train.dtypes == np.float64"
   ]
  },
  {
   "cell_type": "code",
   "execution_count": 9,
   "id": "71bff96e",
   "metadata": {},
   "outputs": [
    {
     "data": {
      "text/plain": [
       "(array([], dtype=int64),)"
      ]
     },
     "execution_count": 9,
     "metadata": {},
     "output_type": "execute_result"
    }
   ],
   "source": [
    "np.where(train.dtypes == np.float64)"
   ]
  },
  {
   "cell_type": "code",
   "execution_count": 10,
   "id": "0afc1689",
   "metadata": {},
   "outputs": [
    {
     "data": {
      "text/plain": [
       "array([dtype('float32')], dtype=object)"
      ]
     },
     "execution_count": 10,
     "metadata": {},
     "output_type": "execute_result"
    }
   ],
   "source": [
    "train.dtypes.unique()"
   ]
  },
  {
   "cell_type": "code",
   "execution_count": null,
   "id": "b8e6d416",
   "metadata": {},
   "outputs": [
    {
     "name": "stdout",
     "output_type": "stream",
     "text": [
      "___./result/KNOW_2017_tfidf.csv start___\n",
      "\n",
      "Fold  0\n"
     ]
    }
   ],
   "source": [
    "# 계속 커널이 죽는다\n",
    "\n",
    "n_split = 5\n",
    "k_fold = KFold(n_splits = n_split, random_state = 123, shuffle=True)\n",
    "\n",
    "for i in range(len(filename_list)):\n",
    "\n",
    "#     train = pd.read_csv(train_list[i], dtype='float16')\n",
    "    train = pd.read_csv(train_list[i])\n",
    "    \n",
    "    print('___' + filename_list[i] + ' start___')\n",
    "\n",
    "    y = train['knowcode']\n",
    "    X = train.drop(['index', 'knowcode'], axis=1)\n",
    "\n",
    "#     y_test = test.copy()['knowcode']\n",
    "#     X_test = test.drop(['index', 'knowcode'], axis=1)\n",
    "\n",
    "    with open('./result/result.txt', 'a') as result:\n",
    "        result.write('___' + filename_list[i] + '___\\n')\n",
    "\n",
    "    catboost_clf = CatBoostClassifier(learning_rate = 0.3, \n",
    "                                      iterations = 2200, \n",
    "                                      task_type = 'GPU', \n",
    "#                                       eval_metric='Accuracy',\n",
    "#                                       l2_leaf_reg=3.16227766e-09,\n",
    "#                                       loss_function= 'MultiClass',\n",
    "#                                       leaf_estimation_iterations=10,\n",
    "                                      random_seed = 123\n",
    "                                     )\n",
    "\n",
    "    for j, (train_index, test_index) in enumerate(k_fold.split(train)):\n",
    "        # Create data for this fold\n",
    "        y_train, y_valid = y.iloc[train_index], y.iloc[test_index]\n",
    "        X_train, X_valid = X.iloc[train_index,:], X.iloc[test_index,:]\n",
    "        print( \"\\nFold \", j)\n",
    "        with open('./result/result.txt', 'a') as result:\n",
    "            result.write(\"Fold: {}\\n\".format(j))\n",
    "\n",
    "\n",
    "        # Run model for this fold\n",
    "\n",
    "        catboost_clf = catboost_clf.fit( X_train, y_train,\n",
    "                             cat_features=None,\n",
    "                             eval_set=(X_valid, y_valid),\n",
    "                                       )\n",
    "\n",
    "        # Generate validation predictions for this fold\n",
    "        pred = catboost_clf.predict(X_valid)\n",
    "\n",
    "#         print(filename_list[i] + '의 정확도: {0:.4f}'.format(accuracy_score(y_valid , pred)))\n",
    "        with open('./result/result.txt', 'a') as result:\n",
    "            result.write(filename_list[i] + '의 정확도: {0:.4f}\\n'.format(accuracy_score(y_valid , pred)))\n",
    "            \n",
    "    test = pd.read_csv(test_list[i])\n",
    "    pred_y = catboost_clf.predict(test[train.drop(['index','knowcode'], axis=1).columns])\n",
    "\n",
    "    submission = pd.DataFrame({\n",
    "        'index': test['index'],\n",
    "        'knowcode': pred_y.transpose()[0]\n",
    "    })\n",
    "    submission.to_csv(filename_list[i], index=False)"
   ]
  },
  {
   "cell_type": "code",
   "execution_count": null,
   "id": "ca055a35",
   "metadata": {},
   "outputs": [],
   "source": []
  }
 ],
 "metadata": {
  "kernelspec": {
   "display_name": "Python 3 (ipykernel)",
   "language": "python",
   "name": "python3"
  },
  "language_info": {
   "codemirror_mode": {
    "name": "ipython",
    "version": 3
   },
   "file_extension": ".py",
   "mimetype": "text/x-python",
   "name": "python",
   "nbconvert_exporter": "python",
   "pygments_lexer": "ipython3",
   "version": "3.9.7"
  }
 },
 "nbformat": 4,
 "nbformat_minor": 5
}
